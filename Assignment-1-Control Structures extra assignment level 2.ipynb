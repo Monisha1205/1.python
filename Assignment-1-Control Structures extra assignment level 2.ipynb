{
 "cells": [
  {
   "cell_type": "code",
   "execution_count": 1,
   "metadata": {},
   "outputs": [
    {
     "name": "stdout",
     "output_type": "stream",
     "text": [
      "0\n",
      "1\n",
      "2\n",
      "3\n",
      "4\n",
      "5\n",
      "6\n",
      "7\n",
      "8\n",
      "9\n",
      "10\n",
      "11\n",
      "12\n",
      "13\n",
      "14\n",
      "15\n",
      "16\n",
      "17\n",
      "18\n",
      "19\n"
     ]
    }
   ],
   "source": [
    "#print 0 to 20 by using range\n",
    "for temp in range(0,20):\n",
    "    print(temp)"
   ]
  },
  {
   "cell_type": "code",
   "execution_count": 2,
   "metadata": {},
   "outputs": [
    {
     "name": "stdout",
     "output_type": "stream",
     "text": [
      "0 1 2 3 4 5 6 7 8 9 10 11 12 13 14 15 16 17 18 19 "
     ]
    }
   ],
   "source": [
    "# print range 0 to 20\n",
    "for temp in range(0,20):\n",
    "    print(temp,end=\" \")"
   ]
  },
  {
   "cell_type": "code",
   "execution_count": 3,
   "metadata": {},
   "outputs": [
    {
     "name": "stdout",
     "output_type": "stream",
     "text": [
      "[22, 24, 24, 21, 56, 57, 88]\n",
      "number of items in list2: 7\n"
     ]
    }
   ],
   "source": [
    "# Print number of items in the list by using 'len'\n",
    "list1=[23,34,45,46,67]\n",
    "list2=[22,24,24,21,56,57,88]\n",
    "print(list2)\n",
    "print(\"number of items in list2:\",len(list2))"
   ]
  },
  {
   "cell_type": "code",
   "execution_count": 1,
   "metadata": {},
   "outputs": [
    {
     "name": "stdout",
     "output_type": "stream",
     "text": [
      "Artificial Intelligence\n",
      "A\n",
      "r\n",
      "t\n",
      "i\n",
      "f\n",
      "i\n",
      "c\n",
      "i\n",
      "a\n",
      "l\n",
      " \n",
      "I\n",
      "n\n",
      "t\n",
      "e\n",
      "l\n",
      "l\n",
      "i\n",
      "g\n",
      "e\n",
      "n\n",
      "c\n",
      "e\n"
     ]
    }
   ],
   "source": [
    "string1='Artificial Intelligence'\n",
    "print(string1)\n",
    "for i in string1:\n",
    "    print(i[0:23])"
   ]
  },
  {
   "cell_type": "code",
   "execution_count": 3,
   "metadata": {},
   "outputs": [
    {
     "name": "stdout",
     "output_type": "stream",
     "text": [
      "your Name\n",
      "your age\n",
      "your profession\n"
     ]
    }
   ],
   "source": [
    "string1='your'\n",
    "string2=(\"Name\",\"age\",\"profession\")\n",
    "print(string1,string2[0])\n",
    "print(string1,string2[1])\n",
    "print(string1,string2[2])"
   ]
  },
  {
   "cell_type": "code",
   "execution_count": 4,
   "metadata": {},
   "outputs": [
    {
     "name": "stdout",
     "output_type": "stream",
     "text": [
      "tuple with mixed datatypes:\n",
      "(1, 'welcome', 2, 'hope')\n"
     ]
    }
   ],
   "source": [
    "# mixed datatypes\n",
    "string3=(1,'welcome',2,'hope')\n",
    "print('tuple with mixed datatypes:')\n",
    "print(string3)"
   ]
  },
  {
   "cell_type": "code",
   "execution_count": 6,
   "metadata": {},
   "outputs": [
    {
     "name": "stdout",
     "output_type": "stream",
     "text": [
      "((45, 35, 36, 23), ('a', 'win', 'success'))\n"
     ]
    }
   ],
   "source": [
    "# tuple with nested tuple\n",
    "tup1=(45,35,36,23)\n",
    "tup2=('a','win','success')\n",
    "tup3=(tup1,tup2)\n",
    "print(tup3)"
   ]
  },
  {
   "cell_type": "code",
   "execution_count": 11,
   "metadata": {},
   "outputs": [
    {
     "name": "stdout",
     "output_type": "stream",
     "text": [
      "(11, 22, 33, 44, 55, 66, 77, 88, 99, 100)\n",
      "11 is odd\n",
      "33 is odd\n",
      "55 is odd\n",
      "77 is odd\n",
      "99 is odd\n"
     ]
    }
   ],
   "source": [
    "# print Odd Numbers in the list\n",
    "tup4=(11,22,33,44,55,66,77,88,99,100)\n",
    "print(tup4)\n",
    "for i in tup4:\n",
    "    if((i%2)==1):\n",
    "        print(i,\"is odd\")"
   ]
  },
  {
   "cell_type": "code",
   "execution_count": 12,
   "metadata": {},
   "outputs": [
    {
     "name": "stdout",
     "output_type": "stream",
     "text": [
      "(11, 22, 33, 44, 55, 66, 77, 88, 99, 100)\n",
      "22 is even\n",
      "44 is even\n",
      "66 is even\n",
      "88 is even\n",
      "100 is even\n"
     ]
    }
   ],
   "source": [
    "# print even Numbers in the list\n",
    "tup4=(11,22,33,44,55,66,77,88,99,100)\n",
    "print(tup4)\n",
    "for i in tup4:\n",
    "    if((i%2)==0):\n",
    "        print(i,\"is even\")"
   ]
  },
  {
   "cell_type": "code",
   "execution_count": null,
   "metadata": {},
   "outputs": [],
   "source": []
  }
 ],
 "metadata": {
  "kernelspec": {
   "display_name": "Python 3",
   "language": "python",
   "name": "python3"
  },
  "language_info": {
   "codemirror_mode": {
    "name": "ipython",
    "version": 3
   },
   "file_extension": ".py",
   "mimetype": "text/x-python",
   "name": "python",
   "nbconvert_exporter": "python",
   "pygments_lexer": "ipython3",
   "version": "3.8.5"
  }
 },
 "nbformat": 4,
 "nbformat_minor": 4
}
