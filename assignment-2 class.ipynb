{
 "cells": [
  {
   "cell_type": "code",
   "execution_count": 7,
   "metadata": {},
   "outputs": [],
   "source": [
    "class subfieldsinAI():\n",
    "    def subfields():\n",
    "        print(\"sub-fields in AI are:\")\n",
    "        subfields='Machine Learning','Neural Networks','Vision','Robotics','Speech Processing','Natural Language Processing'\n",
    "        for i in subfields:\n",
    "            print(i)\n",
    "        return subfields"
   ]
  },
  {
   "cell_type": "code",
   "execution_count": 8,
   "metadata": {},
   "outputs": [
    {
     "name": "stdout",
     "output_type": "stream",
     "text": [
      "sub-fields in AI are:\n",
      "Machine Learning\n",
      "Neural Networks\n",
      "Vision\n",
      "Robotics\n",
      "Speech Processing\n",
      "Natural Language Processing\n"
     ]
    }
   ],
   "source": [
    "subfield=subfieldsinAI.subfields()"
   ]
  },
  {
   "cell_type": "code",
   "execution_count": 9,
   "metadata": {},
   "outputs": [],
   "source": [
    "class oddEven():\n",
    "    def oddeven():\n",
    "        num=int(input('enter your number:'))\n",
    "        if((num%2)==1):\n",
    "            print(num,\"number is odd\")\n",
    "            message=num,'number is odd'\n",
    "        else:\n",
    "            print(num,'number is even')\n",
    "            message=num,'number is even'\n",
    "            return message"
   ]
  },
  {
   "cell_type": "code",
   "execution_count": 10,
   "metadata": {},
   "outputs": [
    {
     "name": "stdout",
     "output_type": "stream",
     "text": [
      "enter your number:8254\n",
      "8254 number is even\n"
     ]
    },
    {
     "data": {
      "text/plain": [
       "(8254, 'number is even')"
      ]
     },
     "execution_count": 10,
     "metadata": {},
     "output_type": "execute_result"
    }
   ],
   "source": [
    "oddEven.oddeven()"
   ]
  },
  {
   "cell_type": "code",
   "execution_count": 11,
   "metadata": {},
   "outputs": [],
   "source": [
    "class EligiblityForMarriage():\n",
    "    def eligible():\n",
    "        gender=input(\"enter your gender:\")\n",
    "        age=int(input('enter your age:'))\n",
    "        if ((age>=21 and gender==\"male\") or (age>=18 and gender==\"female\")):\n",
    "            print(\"eligible\")\n",
    "            send=\"eligible\"\n",
    "        else:\n",
    "            print('not eligible')\n",
    "            send='not eligible'\n",
    "            return send"
   ]
  },
  {
   "cell_type": "code",
   "execution_count": 12,
   "metadata": {},
   "outputs": [
    {
     "name": "stdout",
     "output_type": "stream",
     "text": [
      "enter your gender:male\n",
      "enter your age:20\n",
      "not eligible\n"
     ]
    },
    {
     "data": {
      "text/plain": [
       "'not eligible'"
      ]
     },
     "execution_count": 12,
     "metadata": {},
     "output_type": "execute_result"
    }
   ],
   "source": [
    "EligiblityForMarriage.eligible()"
   ]
  },
  {
   "cell_type": "code",
   "execution_count": 1,
   "metadata": {},
   "outputs": [],
   "source": [
    "class FindPercent():\n",
    "    def percentage():\n",
    "        sub1=int(input('subject1:'))\n",
    "        sub2=int(input('subject2:'))\n",
    "        sub3=int(input('subject3:'))\n",
    "        sub4=int(input('subject4:'))\n",
    "        sub5=int(input('subject5:'))\n",
    "        totel=sub1+sub2+sub3+sub4+sub5\n",
    "        print('Totel:',totel)\n",
    "        percentage=(totel/500)*100\n",
    "        print('percentage:',percentage)"
   ]
  },
  {
   "cell_type": "code",
   "execution_count": 2,
   "metadata": {},
   "outputs": [
    {
     "name": "stdout",
     "output_type": "stream",
     "text": [
      "subject1:91\n",
      "subject2:95\n",
      "subject3:96\n",
      "subject4:97\n",
      "subject5:84\n",
      "Totel: 463\n",
      "percentage: 92.60000000000001\n"
     ]
    }
   ],
   "source": [
    "percent=FindPercent.percentage()"
   ]
  },
  {
   "cell_type": "code",
   "execution_count": 5,
   "metadata": {},
   "outputs": [],
   "source": [
    "class triangle():\n",
    "    def triangle():\n",
    "        height=int(input('enter height of triangle:'))\n",
    "        breadth=int(input('enter breadth of triangle:'))\n",
    "        area=height*breadth*(1/2)\n",
    "        print('area of triangle:',area)\n",
    "        side1=int(input(\"enter side1 of triangle:\"))\n",
    "        side2=int(input(\"enter side2 of triangle:\"))\n",
    "        side3=int(input(\"enter side3 of triangle:\"))\n",
    "        perimeter=side1+side2+side3\n",
    "        print(\"perimeter of triangle:\",perimeter)"
   ]
  },
  {
   "cell_type": "code",
   "execution_count": 6,
   "metadata": {},
   "outputs": [
    {
     "name": "stdout",
     "output_type": "stream",
     "text": [
      "enter height of triangle:85\n",
      "enter breadth of triangle:54\n",
      "area of triangle: 2295.0\n",
      "enter side1 of triangle:55\n",
      "enter side2 of triangle:54\n",
      "enter side3 of triangle:54\n",
      "perimeter of triangle: 163\n"
     ]
    }
   ],
   "source": [
    "triangle.triangle()"
   ]
  },
  {
   "cell_type": "code",
   "execution_count": null,
   "metadata": {},
   "outputs": [],
   "source": []
  }
 ],
 "metadata": {
  "kernelspec": {
   "display_name": "Python 3",
   "language": "python",
   "name": "python3"
  },
  "language_info": {
   "codemirror_mode": {
    "name": "ipython",
    "version": 3
   },
   "file_extension": ".py",
   "mimetype": "text/x-python",
   "name": "python",
   "nbconvert_exporter": "python",
   "pygments_lexer": "ipython3",
   "version": "3.8.5"
  }
 },
 "nbformat": 4,
 "nbformat_minor": 4
}
