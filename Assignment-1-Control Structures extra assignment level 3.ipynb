{
 "cells": [
  {
   "cell_type": "code",
   "execution_count": 5,
   "metadata": {},
   "outputs": [
    {
     "name": "stdout",
     "output_type": "stream",
     "text": [
      "value: 10\n",
      "correct\n"
     ]
    }
   ],
   "source": [
    "# print 'CORRECT' if i == 10\n",
    "value=10\n",
    "if(value==10):\n",
    "    print(\"value:\",value)\n",
    "    print(\"correct\")"
   ]
  },
  {
   "cell_type": "code",
   "execution_count": 6,
   "metadata": {},
   "outputs": [
    {
     "name": "stdout",
     "output_type": "stream",
     "text": [
      "enter your password:MonishaS12\n",
      "password is correct\n"
     ]
    }
   ],
   "source": [
    "# Check the password, using if and else\n",
    "y=\"MonishaS12\"\n",
    "i=input('enter your password:')\n",
    "if(i==y):\n",
    "    print(\"password is correct\")\n",
    "else:\n",
    "    print(\"password is incorrect\")"
   ]
  },
  {
   "cell_type": "code",
   "execution_count": 7,
   "metadata": {},
   "outputs": [
    {
     "name": "stdout",
     "output_type": "stream",
     "text": [
      "adult\n",
      "senior citizen\n",
      "senior citizen\n",
      "citizen\n",
      "children\n",
      "senior citizen\n"
     ]
    }
   ],
   "source": [
    "# Catagory the people by their age like children, adult, citizen, senior citizen\n",
    "age=(23,55,56,49,12,66)\n",
    "for age in age:\n",
    "    if(age<18):\n",
    "        print(\"children\")\n",
    "    elif(age<35):\n",
    "        print(\"adult\")\n",
    "    elif(age<55):\n",
    "        print(\"citizen\")\n",
    "    else:\n",
    "        print('senior citizen')"
   ]
  },
  {
   "cell_type": "code",
   "execution_count": 8,
   "metadata": {},
   "outputs": [
    {
     "name": "stdout",
     "output_type": "stream",
     "text": [
      "enter your age:15\n",
      "children\n"
     ]
    }
   ],
   "source": [
    "age=int(input(\"enter your age:\"))\n",
    "if(age<18):\n",
    "    print(\"children\")\n",
    "elif(age<35):\n",
    "    print(\"adult\")\n",
    "elif(age<55):\n",
    "    print(\"citizen\")\n",
    "else:\n",
    "    print('senior citizen')"
   ]
  },
  {
   "cell_type": "code",
   "execution_count": 9,
   "metadata": {},
   "outputs": [
    {
     "name": "stdout",
     "output_type": "stream",
     "text": [
      "enter any number:5\n",
      "no, number is negative\n"
     ]
    }
   ],
   "source": [
    "# Find whether given number is positive or negative\n",
    "num=int(input(\"enter any number:\"))\n",
    "if((num%2)==0):\n",
    "    print(\"yes, number is positive\")\n",
    "else:\n",
    "    print(\"no, number is negative\")"
   ]
  },
  {
   "cell_type": "code",
   "execution_count": 12,
   "metadata": {},
   "outputs": [
    {
     "name": "stdout",
     "output_type": "stream",
     "text": [
      "enter a number to check:59\n",
      "it is not divible by 5\n"
     ]
    }
   ],
   "source": [
    "# Check whether the given number is divisible by 5\n",
    "num=int(input(\"enter a number to check:\"))\n",
    "if ((num%5)==0):\n",
    "    print('it is divible by 5')\n",
    "else:\n",
    "    print('it is not divible by 5')"
   ]
  },
  {
   "cell_type": "code",
   "execution_count": null,
   "metadata": {},
   "outputs": [],
   "source": []
  }
 ],
 "metadata": {
  "kernelspec": {
   "display_name": "Python 3",
   "language": "python",
   "name": "python3"
  },
  "language_info": {
   "codemirror_mode": {
    "name": "ipython",
    "version": 3
   },
   "file_extension": ".py",
   "mimetype": "text/x-python",
   "name": "python",
   "nbconvert_exporter": "python",
   "pygments_lexer": "ipython3",
   "version": "3.8.5"
  }
 },
 "nbformat": 4,
 "nbformat_minor": 4
}
