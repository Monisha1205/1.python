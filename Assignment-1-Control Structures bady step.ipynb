{
 "cells": [
  {
   "cell_type": "code",
   "execution_count": 1,
   "metadata": {},
   "outputs": [
    {
     "name": "stdout",
     "output_type": "stream",
     "text": [
      "Welcome to assignment-1\n"
     ]
    }
   ],
   "source": [
    "print(\"Welcome to assignment-1\")"
   ]
  },
  {
   "cell_type": "code",
   "execution_count": 2,
   "metadata": {},
   "outputs": [
    {
     "name": "stdout",
     "output_type": "stream",
     "text": [
      "Num1= 10\n",
      "Num2= 30\n",
      "Add= 40\n"
     ]
    }
   ],
   "source": [
    "Num1=10\n",
    "Num2=30\n",
    "Add=Num1+Num2\n",
    "print(\"Num1=\",Num1)\n",
    "print(\"Num2=\",Num2)\n",
    "print(\"Add=\",Add)"
   ]
  },
  {
   "cell_type": "code",
   "execution_count": 3,
   "metadata": {},
   "outputs": [],
   "source": [
    "#Body Mass Index"
   ]
  },
  {
   "cell_type": "code",
   "execution_count": 2,
   "metadata": {},
   "outputs": [
    {
     "name": "stdout",
     "output_type": "stream",
     "text": [
      "enter your weight in kg:55\n",
      "enter your height in meter:1.63\n",
      "Normal weight\n"
     ]
    }
   ],
   "source": [
    "Weight=int(input(\"enter your weight in kg:\"))\n",
    "Height=float(input('enter your height in meter:'))\n",
    "BMI=Weight/Height**2\n",
    "if(BMI<18.5):\n",
    "    print(\"Under weight\")\n",
    "elif(BMI<25):\n",
    "    print(\"Normal weight\")\n",
    "elif(BMI<30):\n",
    "    print(\"Over weight\")\n",
    "else:\n",
    "    print(\"Very over weight\")"
   ]
  },
  {
   "cell_type": "code",
   "execution_count": null,
   "metadata": {},
   "outputs": [],
   "source": []
  }
 ],
 "metadata": {
  "kernelspec": {
   "display_name": "Python 3",
   "language": "python",
   "name": "python3"
  },
  "language_info": {
   "codemirror_mode": {
    "name": "ipython",
    "version": 3
   },
   "file_extension": ".py",
   "mimetype": "text/x-python",
   "name": "python",
   "nbconvert_exporter": "python",
   "pygments_lexer": "ipython3",
   "version": "3.8.5"
  }
 },
 "nbformat": 4,
 "nbformat_minor": 4
}
